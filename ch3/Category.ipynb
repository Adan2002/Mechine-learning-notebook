{
 "cells": [
  {
   "cell_type": "markdown",
   "id": "1d712de8",
   "metadata": {},
   "source": [
    "## MNIST\n",
    "MNIST是一个比较著名的数据集，经常会在一些机器学习的一些课程中见到\\\n",
    "下面的代码便是下载我们所需要的数据集"
   ]
  },
  {
   "cell_type": "code",
   "execution_count": 2,
   "id": "04bb353d",
   "metadata": {},
   "outputs": [
    {
     "data": {
      "text/plain": [
       "dict_keys(['data', 'target', 'frame', 'categories', 'feature_names', 'target_names', 'DESCR', 'details', 'url'])"
      ]
     },
     "execution_count": 2,
     "metadata": {},
     "output_type": "execute_result"
    }
   ],
   "source": [
    "from sklearn.datasets import fetch_openml\n",
    "mnist = fetch_openml('mnist_784', version = 1)\n",
    "mnist.keys()"
   ]
  },
  {
   "cell_type": "code",
   "execution_count": 3,
   "id": "b794fc14",
   "metadata": {},
   "outputs": [
    {
     "data": {
      "text/plain": [
       "((70000, 784), (70000,))"
      ]
     },
     "execution_count": 3,
     "metadata": {},
     "output_type": "execute_result"
    }
   ],
   "source": [
    "import numpy as np\n",
    "X, y = mnist[\"data\"], mnist[\"target\"]\n",
    "X.shape, y.shape"
   ]
  },
  {
   "cell_type": "markdown",
   "id": "feb5b725",
   "metadata": {},
   "source": [
    "现在我们在X中保存了所有的图片的一维展开形式，y中保存了所有图片对应的编号\\\n",
    "现在可以利用`matplotlib`将其绘制出来。\\\n",
    "但是之前也说了，现在的数据集是一个一维形式，所以我们需要先将需要绘制的图片进行升维"
   ]
  },
  {
   "cell_type": "code",
   "execution_count": 4,
   "id": "80990370",
   "metadata": {},
   "outputs": [
    {
     "data": {
      "image/png": "[encoded data removed]",
      "text/plain": [
       "<Figure size 432x288 with 1 Axes>"
      ]
     },
     "metadata": {
      "needs_background": "light"
     },
     "output_type": "display_data"
    }
   ],
   "source": [
    "import matplotlib as mpl\n",
    "import matplotlib.pyplot as plt\n",
    "import pandas as pd\n",
    "# 这里可能是由于python新版本（3.9）的问题，因此需要对原始代码稍作修改，否则无法运行\n",
    "some_digit = X[:1]\n",
    "# 这里同样也稍作修改，需要对numpy的values进行操作\n",
    "some_digit_image = some_digit.values.reshape(28, 28)\n",
    "plt.imshow(some_digit_image, cmap = \"binary\")\n",
    "plt.axis(\"off\")\n",
    "plt.show()"
   ]
  },
  {
   "cell_type": "markdown",
   "id": "12e893ce",
   "metadata": {},
   "source": [
    "我们来查看一下第一行的标签，发现确实是‘5’，说明我们的眼睛没有问题"
   ]
  },
  {
   "cell_type": "code",
   "execution_count": 5,
   "id": "88ab8a58",
   "metadata": {},
   "outputs": [
    {
     "data": {
      "text/plain": [
       "'5'"
      ]
     },
     "execution_count": 5,
     "metadata": {},
     "output_type": "execute_result"
    }
   ],
   "source": [
    "y[0]"
   ]
  },
  {
   "cell_type": "code",
   "execution_count": 13,
   "id": "1b5ff7d4",
   "metadata": {},
   "outputs": [],
   "source": [
    "y = y.astype(np.uint8)"
   ]
  },
  {
   "cell_type": "markdown",
   "id": "e545aef6",
   "metadata": {},
   "source": [
    "之后我们来划分训练集以及测试集，MNIST数据集帮我们划分出来的是60k个训练集以及10k个测试集"
   ]
  },
  {
   "cell_type": "code",
   "execution_count": 14,
   "id": "a1dc1c1c",
   "metadata": {},
   "outputs": [],
   "source": [
    "X_train, X_test, y_train, y_test = X[:60000], X[60000:], y[:60000], y[60000:]"
   ]
  },
  {
   "cell_type": "markdown",
   "id": "ff845599",
   "metadata": {},
   "source": [
    "## 二元分类器\n",
    "首先考虑简化问题，我们只识别一个数字，以5为例\\\n",
    "我们只需要先让计算机区别出来5和非5即可"
   ]
  },
  {
   "cell_type": "code",
   "execution_count": 16,
   "id": "4e2ccb62",
   "metadata": {},
   "outputs": [],
   "source": [
    "y_train_5 = (y_train == 5)\n",
    "y_test_5 = (y_test == 5)"
   ]
  },
  {
   "cell_type": "markdown",
   "id": "ccc78049",
   "metadata": {},
   "source": [
    "接着我们就要挑选一个分类模型来对已有的训练集进行训练\\\n",
    "书中给出的建议便是初始使用随机梯度下降模型（SGD）来进行训练为好\\\n",
    "sklearn提供的类`SGDClassifier`能够满足我们的需求\\\n",
    "并且此模型可以训练大型的数据集，因为SGD独立处理训练实例，一次训练一个"
   ]
  },
  {
   "cell_type": "code",
   "execution_count": 17,
   "id": "72ed0f10",
   "metadata": {},
   "outputs": [
    {
     "data": {
      "text/plain": [
       "<bound method IndexOpsMixin.value_counts of 0         True\n",
       "1        False\n",
       "2        False\n",
       "3        False\n",
       "4        False\n",
       "         ...  \n",
       "59995    False\n",
       "59996    False\n",
       "59997     True\n",
       "59998    False\n",
       "59999    False\n",
       "Name: class, Length: 60000, dtype: bool>"
      ]
     },
     "execution_count": 17,
     "metadata": {},
     "output_type": "execute_result"
    }
   ],
   "source": [
    "y_train_5.value_counts"
   ]
  },
  {
   "cell_type": "code",
   "execution_count": 18,
   "id": "d4e21bbc",
   "metadata": {},
   "outputs": [
    {
     "data": {
      "text/plain": [
       "SGDClassifier(random_state=42)"
      ]
     },
     "execution_count": 18,
     "metadata": {},
     "output_type": "execute_result"
    }
   ],
   "source": [
    "from sklearn.linear_model import SGDClassifier\n",
    "sgd_clf = SGDClassifier(random_state = 42)\n",
    "sgd_clf.fit(X_train, y_train_5)"
   ]
  },
  {
   "cell_type": "markdown",
   "id": "05245ca9",
   "metadata": {},
   "source": [
    "这里来重新reshape一下前面提取出来的一个数据\\\n",
    "因为之前采用了一些玄学手段，现在的数据集为1x784的，而我们需要的是一个向量，因此小小的转换一下"
   ]
  },
  {
   "cell_type": "code",
   "execution_count": 22,
   "id": "c78ae15f",
   "metadata": {},
   "outputs": [
    {
     "data": {
      "text/plain": [
       "(784,)"
      ]
     },
     "execution_count": 22,
     "metadata": {},
     "output_type": "execute_result"
    }
   ],
   "source": [
    "some_digit = some_digit.values.reshape(784)\n",
    "some_digit.shape"
   ]
  },
  {
   "cell_type": "code",
   "execution_count": 24,
   "id": "7e71a310",
   "metadata": {},
   "outputs": [
    {
     "name": "stdout",
     "output_type": "stream",
     "text": [
      "The answer is  [ True]\n"
     ]
    }
   ],
   "source": [
    "ans0 = sgd_clf.predict([some_digit])\n",
    "print(\"The answer is \", ans0)"
   ]
  },
  {
   "cell_type": "markdown",
   "id": "6d5af27b",
   "metadata": {},
   "source": [
    "然后我们可以开始验证我们的模型是否准确\\\n",
    "这里依然采用的是交叉验证的方式，详情可以参考第二章"
   ]
  },
  {
   "cell_type": "code",
   "execution_count": 25,
   "id": "0b4667fd",
   "metadata": {},
   "outputs": [
    {
     "name": "stdout",
     "output_type": "stream",
     "text": [
      "[0.95035 0.96035 0.9604 ]\n"
     ]
    }
   ],
   "source": [
    "from sklearn.model_selection import cross_val_score\n",
    "sgd_scores = cross_val_score(sgd_clf, X_train, y_train_5, cv = 3, scoring = \"accuracy\")\n",
    "print(sgd_scores)"
   ]
  },
  {
   "cell_type": "markdown",
   "id": "5cb3cacb",
   "metadata": {},
   "source": [
    "准确率已经相当高的了（95%）\\\n",
    "官方书本上面的准确率也不过91%，我们已经弑神了！！！\\\n",
    "咳咳咳，但是其实有着更好的评估分类模型的方法，具体内容且听下回的分解。"
   ]
  },
  {
   "cell_type": "code",
   "execution_count": null,
   "id": "079b7878",
   "metadata": {},
   "outputs": [],
   "source": []
  }
 ],
 "metadata": {
  "kernelspec": {
   "display_name": "Python 3 (ipykernel)",
   "language": "python",
   "name": "python3"
  },
  "language_info": {
   "codemirror_mode": {
    "name": "ipython",
    "version": 3
   },
   "file_extension": ".py",
   "mimetype": "text/x-python",
   "name": "python",
   "nbconvert_exporter": "python",
   "pygments_lexer": "ipython3",
   "version": "3.9.7"
  }
 },
 "nbformat": 4,
 "nbformat_minor": 5
}
